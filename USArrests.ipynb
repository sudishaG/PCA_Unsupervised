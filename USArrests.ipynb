{
  "nbformat": 4,
  "nbformat_minor": 0,
  "metadata": {
    "colab": {
      "provenance": [],
      "authorship_tag": "ABX9TyPWEHxngmenGRU6I+K7CEb3",
      "include_colab_link": true
    },
    "kernelspec": {
      "name": "python3",
      "display_name": "Python 3"
    },
    "language_info": {
      "name": "python"
    }
  },
  "cells": [
    {
      "cell_type": "markdown",
      "metadata": {
        "id": "view-in-github",
        "colab_type": "text"
      },
      "source": [
        "<a href=\"https://colab.research.google.com/github/sudishaG/PCA_Unsupervised/blob/main/USArrests.ipynb\" target=\"_parent\"><img src=\"https://colab.research.google.com/assets/colab-badge.svg\" alt=\"Open In Colab\"/></a>"
      ]
    },
    {
      "cell_type": "code",
      "source": [
        "#Installing all python packages, system-level packages and importing the libraries\n",
        "\n",
        "import numpy as np\n",
        "import pandas as pd\n",
        "import matplotlib.pyplot as plt\n",
        "!pip install matplotlib-venn\n",
        "!apt-get -qq install -y libfluidsynth1\n",
        "# https://pypi.python.org/pypi/pydot\n",
        "!apt-get -qq install -y graphviz && pip install pydot\n",
        "import pydot\n",
        "!pip install cartopy\n",
        "import cartopy\n",
        "from statsmodels.datasets import get_rdataset\n",
        "from sklearn.decomposition import PCA\n",
        "from sklearn.preprocessing import StandardScaler\n",
        "!pip install ISLP\n",
        "from ISLP import load_data\n",
        "from sklearn.cluster import \\\n",
        "(KMeans ,\n",
        "AgglomerativeClustering)\n",
        "from scipy.cluster.hierarchy import \\\n",
        "(dendrogram ,\n",
        "cut_tree)\n",
        "from ISLP.cluster import compute_linkage"
      ],
      "metadata": {
        "id": "mcNQ-6tkulEX",
        "colab": {
          "base_uri": "https://localhost:8080/"
        },
        "outputId": "27d2d3bf-7e96-4343-f681-1b39c7ba928e"
      },
      "execution_count": 2,
      "outputs": [
        {
          "output_type": "stream",
          "name": "stdout",
          "text": [
            "Requirement already satisfied: matplotlib-venn in /usr/local/lib/python3.11/dist-packages (1.1.2)\n",
            "Requirement already satisfied: matplotlib in /usr/local/lib/python3.11/dist-packages (from matplotlib-venn) (3.10.0)\n",
            "Requirement already satisfied: numpy in /usr/local/lib/python3.11/dist-packages (from matplotlib-venn) (2.0.2)\n",
            "Requirement already satisfied: scipy in /usr/local/lib/python3.11/dist-packages (from matplotlib-venn) (1.16.0)\n",
            "Requirement already satisfied: contourpy>=1.0.1 in /usr/local/lib/python3.11/dist-packages (from matplotlib->matplotlib-venn) (1.3.2)\n",
            "Requirement already satisfied: cycler>=0.10 in /usr/local/lib/python3.11/dist-packages (from matplotlib->matplotlib-venn) (0.12.1)\n",
            "Requirement already satisfied: fonttools>=4.22.0 in /usr/local/lib/python3.11/dist-packages (from matplotlib->matplotlib-venn) (4.59.0)\n",
            "Requirement already satisfied: kiwisolver>=1.3.1 in /usr/local/lib/python3.11/dist-packages (from matplotlib->matplotlib-venn) (1.4.8)\n",
            "Requirement already satisfied: packaging>=20.0 in /usr/local/lib/python3.11/dist-packages (from matplotlib->matplotlib-venn) (25.0)\n",
            "Requirement already satisfied: pillow>=8 in /usr/local/lib/python3.11/dist-packages (from matplotlib->matplotlib-venn) (11.3.0)\n",
            "Requirement already satisfied: pyparsing>=2.3.1 in /usr/local/lib/python3.11/dist-packages (from matplotlib->matplotlib-venn) (3.2.3)\n",
            "Requirement already satisfied: python-dateutil>=2.7 in /usr/local/lib/python3.11/dist-packages (from matplotlib->matplotlib-venn) (2.9.0.post0)\n",
            "Requirement already satisfied: six>=1.5 in /usr/local/lib/python3.11/dist-packages (from python-dateutil>=2.7->matplotlib->matplotlib-venn) (1.17.0)\n",
            "E: Package 'libfluidsynth1' has no installation candidate\n",
            "Requirement already satisfied: pydot in /usr/local/lib/python3.11/dist-packages (3.0.4)\n",
            "Requirement already satisfied: pyparsing>=3.0.9 in /usr/local/lib/python3.11/dist-packages (from pydot) (3.2.3)\n",
            "Requirement already satisfied: cartopy in /usr/local/lib/python3.11/dist-packages (0.24.1)\n",
            "Requirement already satisfied: numpy>=1.23 in /usr/local/lib/python3.11/dist-packages (from cartopy) (2.0.2)\n",
            "Requirement already satisfied: matplotlib>=3.6 in /usr/local/lib/python3.11/dist-packages (from cartopy) (3.10.0)\n",
            "Requirement already satisfied: shapely>=1.8 in /usr/local/lib/python3.11/dist-packages (from cartopy) (2.1.1)\n",
            "Requirement already satisfied: packaging>=21 in /usr/local/lib/python3.11/dist-packages (from cartopy) (25.0)\n",
            "Requirement already satisfied: pyshp>=2.3 in /usr/local/lib/python3.11/dist-packages (from cartopy) (2.3.1)\n",
            "Requirement already satisfied: pyproj>=3.3.1 in /usr/local/lib/python3.11/dist-packages (from cartopy) (3.7.1)\n",
            "Requirement already satisfied: contourpy>=1.0.1 in /usr/local/lib/python3.11/dist-packages (from matplotlib>=3.6->cartopy) (1.3.2)\n",
            "Requirement already satisfied: cycler>=0.10 in /usr/local/lib/python3.11/dist-packages (from matplotlib>=3.6->cartopy) (0.12.1)\n",
            "Requirement already satisfied: fonttools>=4.22.0 in /usr/local/lib/python3.11/dist-packages (from matplotlib>=3.6->cartopy) (4.59.0)\n",
            "Requirement already satisfied: kiwisolver>=1.3.1 in /usr/local/lib/python3.11/dist-packages (from matplotlib>=3.6->cartopy) (1.4.8)\n",
            "Requirement already satisfied: pillow>=8 in /usr/local/lib/python3.11/dist-packages (from matplotlib>=3.6->cartopy) (11.3.0)\n",
            "Requirement already satisfied: pyparsing>=2.3.1 in /usr/local/lib/python3.11/dist-packages (from matplotlib>=3.6->cartopy) (3.2.3)\n",
            "Requirement already satisfied: python-dateutil>=2.7 in /usr/local/lib/python3.11/dist-packages (from matplotlib>=3.6->cartopy) (2.9.0.post0)\n",
            "Requirement already satisfied: certifi in /usr/local/lib/python3.11/dist-packages (from pyproj>=3.3.1->cartopy) (2025.7.14)\n",
            "Requirement already satisfied: six>=1.5 in /usr/local/lib/python3.11/dist-packages (from python-dateutil>=2.7->matplotlib>=3.6->cartopy) (1.17.0)\n",
            "Requirement already satisfied: ISLP in /usr/local/lib/python3.11/dist-packages (0.4.0)\n",
            "Requirement already satisfied: numpy>=1.7.1 in /usr/local/lib/python3.11/dist-packages (from ISLP) (2.0.2)\n",
            "Requirement already satisfied: scipy>=0.9 in /usr/local/lib/python3.11/dist-packages (from ISLP) (1.16.0)\n",
            "Requirement already satisfied: pandas>=0.20 in /usr/local/lib/python3.11/dist-packages (from ISLP) (2.2.2)\n",
            "Requirement already satisfied: lxml in /usr/local/lib/python3.11/dist-packages (from ISLP) (5.4.0)\n",
            "Requirement already satisfied: scikit-learn>=1.2 in /usr/local/lib/python3.11/dist-packages (from ISLP) (1.6.1)\n",
            "Requirement already satisfied: joblib in /usr/local/lib/python3.11/dist-packages (from ISLP) (1.5.1)\n",
            "Requirement already satisfied: statsmodels>=0.13 in /usr/local/lib/python3.11/dist-packages (from ISLP) (0.14.5)\n",
            "Requirement already satisfied: lifelines in /usr/local/lib/python3.11/dist-packages (from ISLP) (0.30.0)\n",
            "Requirement already satisfied: pygam in /usr/local/lib/python3.11/dist-packages (from ISLP) (0.10.1)\n",
            "Requirement already satisfied: torch in /usr/local/lib/python3.11/dist-packages (from ISLP) (2.6.0+cu124)\n",
            "Requirement already satisfied: pytorch-lightning in /usr/local/lib/python3.11/dist-packages (from ISLP) (2.5.2)\n",
            "Requirement already satisfied: torchmetrics in /usr/local/lib/python3.11/dist-packages (from ISLP) (1.8.0)\n",
            "Requirement already satisfied: python-dateutil>=2.8.2 in /usr/local/lib/python3.11/dist-packages (from pandas>=0.20->ISLP) (2.9.0.post0)\n",
            "Requirement already satisfied: pytz>=2020.1 in /usr/local/lib/python3.11/dist-packages (from pandas>=0.20->ISLP) (2025.2)\n",
            "Requirement already satisfied: tzdata>=2022.7 in /usr/local/lib/python3.11/dist-packages (from pandas>=0.20->ISLP) (2025.2)\n",
            "Requirement already satisfied: threadpoolctl>=3.1.0 in /usr/local/lib/python3.11/dist-packages (from scikit-learn>=1.2->ISLP) (3.6.0)\n",
            "Requirement already satisfied: patsy>=0.5.6 in /usr/local/lib/python3.11/dist-packages (from statsmodels>=0.13->ISLP) (1.0.1)\n",
            "Requirement already satisfied: packaging>=21.3 in /usr/local/lib/python3.11/dist-packages (from statsmodels>=0.13->ISLP) (25.0)\n",
            "Requirement already satisfied: matplotlib>=3.0 in /usr/local/lib/python3.11/dist-packages (from lifelines->ISLP) (3.10.0)\n",
            "Requirement already satisfied: autograd>=1.5 in /usr/local/lib/python3.11/dist-packages (from lifelines->ISLP) (1.8.0)\n",
            "Requirement already satisfied: autograd-gamma>=0.3 in /usr/local/lib/python3.11/dist-packages (from lifelines->ISLP) (0.5.0)\n",
            "Requirement already satisfied: formulaic>=0.2.2 in /usr/local/lib/python3.11/dist-packages (from lifelines->ISLP) (1.2.0)\n",
            "Requirement already satisfied: progressbar2<5,>=4.2.0 in /usr/local/lib/python3.11/dist-packages (from pygam->ISLP) (4.5.0)\n",
            "Requirement already satisfied: tqdm>=4.57.0 in /usr/local/lib/python3.11/dist-packages (from pytorch-lightning->ISLP) (4.67.1)\n",
            "Requirement already satisfied: PyYAML>=5.4 in /usr/local/lib/python3.11/dist-packages (from pytorch-lightning->ISLP) (6.0.2)\n",
            "Requirement already satisfied: fsspec>=2022.5.0 in /usr/local/lib/python3.11/dist-packages (from fsspec[http]>=2022.5.0->pytorch-lightning->ISLP) (2025.3.0)\n",
            "Requirement already satisfied: typing-extensions>=4.4.0 in /usr/local/lib/python3.11/dist-packages (from pytorch-lightning->ISLP) (4.14.1)\n",
            "Requirement already satisfied: lightning-utilities>=0.10.0 in /usr/local/lib/python3.11/dist-packages (from pytorch-lightning->ISLP) (0.15.0)\n",
            "Requirement already satisfied: filelock in /usr/local/lib/python3.11/dist-packages (from torch->ISLP) (3.18.0)\n",
            "Requirement already satisfied: networkx in /usr/local/lib/python3.11/dist-packages (from torch->ISLP) (3.5)\n",
            "Requirement already satisfied: jinja2 in /usr/local/lib/python3.11/dist-packages (from torch->ISLP) (3.1.6)\n",
            "Requirement already satisfied: nvidia-cuda-nvrtc-cu12==12.4.127 in /usr/local/lib/python3.11/dist-packages (from torch->ISLP) (12.4.127)\n",
            "Requirement already satisfied: nvidia-cuda-runtime-cu12==12.4.127 in /usr/local/lib/python3.11/dist-packages (from torch->ISLP) (12.4.127)\n",
            "Requirement already satisfied: nvidia-cuda-cupti-cu12==12.4.127 in /usr/local/lib/python3.11/dist-packages (from torch->ISLP) (12.4.127)\n",
            "Requirement already satisfied: nvidia-cudnn-cu12==9.1.0.70 in /usr/local/lib/python3.11/dist-packages (from torch->ISLP) (9.1.0.70)\n",
            "Requirement already satisfied: nvidia-cublas-cu12==12.4.5.8 in /usr/local/lib/python3.11/dist-packages (from torch->ISLP) (12.4.5.8)\n",
            "Requirement already satisfied: nvidia-cufft-cu12==11.2.1.3 in /usr/local/lib/python3.11/dist-packages (from torch->ISLP) (11.2.1.3)\n",
            "Requirement already satisfied: nvidia-curand-cu12==10.3.5.147 in /usr/local/lib/python3.11/dist-packages (from torch->ISLP) (10.3.5.147)\n",
            "Requirement already satisfied: nvidia-cusolver-cu12==11.6.1.9 in /usr/local/lib/python3.11/dist-packages (from torch->ISLP) (11.6.1.9)\n",
            "Requirement already satisfied: nvidia-cusparse-cu12==12.3.1.170 in /usr/local/lib/python3.11/dist-packages (from torch->ISLP) (12.3.1.170)\n",
            "Requirement already satisfied: nvidia-cusparselt-cu12==0.6.2 in /usr/local/lib/python3.11/dist-packages (from torch->ISLP) (0.6.2)\n",
            "Requirement already satisfied: nvidia-nccl-cu12==2.21.5 in /usr/local/lib/python3.11/dist-packages (from torch->ISLP) (2.21.5)\n",
            "Requirement already satisfied: nvidia-nvtx-cu12==12.4.127 in /usr/local/lib/python3.11/dist-packages (from torch->ISLP) (12.4.127)\n",
            "Requirement already satisfied: nvidia-nvjitlink-cu12==12.4.127 in /usr/local/lib/python3.11/dist-packages (from torch->ISLP) (12.4.127)\n",
            "Requirement already satisfied: triton==3.2.0 in /usr/local/lib/python3.11/dist-packages (from torch->ISLP) (3.2.0)\n",
            "Requirement already satisfied: sympy==1.13.1 in /usr/local/lib/python3.11/dist-packages (from torch->ISLP) (1.13.1)\n",
            "Requirement already satisfied: mpmath<1.4,>=1.1.0 in /usr/local/lib/python3.11/dist-packages (from sympy==1.13.1->torch->ISLP) (1.3.0)\n",
            "Requirement already satisfied: interface-meta>=1.2.0 in /usr/local/lib/python3.11/dist-packages (from formulaic>=0.2.2->lifelines->ISLP) (1.3.0)\n",
            "Requirement already satisfied: narwhals>=1.17 in /usr/local/lib/python3.11/dist-packages (from formulaic>=0.2.2->lifelines->ISLP) (1.48.1)\n",
            "Requirement already satisfied: wrapt>=1.0 in /usr/local/lib/python3.11/dist-packages (from formulaic>=0.2.2->lifelines->ISLP) (1.17.2)\n",
            "Requirement already satisfied: aiohttp!=4.0.0a0,!=4.0.0a1 in /usr/local/lib/python3.11/dist-packages (from fsspec[http]>=2022.5.0->pytorch-lightning->ISLP) (3.12.14)\n",
            "Requirement already satisfied: setuptools in /usr/local/lib/python3.11/dist-packages (from lightning-utilities>=0.10.0->pytorch-lightning->ISLP) (75.2.0)\n",
            "Requirement already satisfied: contourpy>=1.0.1 in /usr/local/lib/python3.11/dist-packages (from matplotlib>=3.0->lifelines->ISLP) (1.3.2)\n",
            "Requirement already satisfied: cycler>=0.10 in /usr/local/lib/python3.11/dist-packages (from matplotlib>=3.0->lifelines->ISLP) (0.12.1)\n",
            "Requirement already satisfied: fonttools>=4.22.0 in /usr/local/lib/python3.11/dist-packages (from matplotlib>=3.0->lifelines->ISLP) (4.59.0)\n",
            "Requirement already satisfied: kiwisolver>=1.3.1 in /usr/local/lib/python3.11/dist-packages (from matplotlib>=3.0->lifelines->ISLP) (1.4.8)\n",
            "Requirement already satisfied: pillow>=8 in /usr/local/lib/python3.11/dist-packages (from matplotlib>=3.0->lifelines->ISLP) (11.3.0)\n",
            "Requirement already satisfied: pyparsing>=2.3.1 in /usr/local/lib/python3.11/dist-packages (from matplotlib>=3.0->lifelines->ISLP) (3.2.3)\n",
            "Requirement already satisfied: python-utils>=3.8.1 in /usr/local/lib/python3.11/dist-packages (from progressbar2<5,>=4.2.0->pygam->ISLP) (3.9.1)\n",
            "Requirement already satisfied: six>=1.5 in /usr/local/lib/python3.11/dist-packages (from python-dateutil>=2.8.2->pandas>=0.20->ISLP) (1.17.0)\n",
            "Requirement already satisfied: MarkupSafe>=2.0 in /usr/local/lib/python3.11/dist-packages (from jinja2->torch->ISLP) (3.0.2)\n",
            "Requirement already satisfied: aiohappyeyeballs>=2.5.0 in /usr/local/lib/python3.11/dist-packages (from aiohttp!=4.0.0a0,!=4.0.0a1->fsspec[http]>=2022.5.0->pytorch-lightning->ISLP) (2.6.1)\n",
            "Requirement already satisfied: aiosignal>=1.4.0 in /usr/local/lib/python3.11/dist-packages (from aiohttp!=4.0.0a0,!=4.0.0a1->fsspec[http]>=2022.5.0->pytorch-lightning->ISLP) (1.4.0)\n",
            "Requirement already satisfied: attrs>=17.3.0 in /usr/local/lib/python3.11/dist-packages (from aiohttp!=4.0.0a0,!=4.0.0a1->fsspec[http]>=2022.5.0->pytorch-lightning->ISLP) (25.3.0)\n",
            "Requirement already satisfied: frozenlist>=1.1.1 in /usr/local/lib/python3.11/dist-packages (from aiohttp!=4.0.0a0,!=4.0.0a1->fsspec[http]>=2022.5.0->pytorch-lightning->ISLP) (1.7.0)\n",
            "Requirement already satisfied: multidict<7.0,>=4.5 in /usr/local/lib/python3.11/dist-packages (from aiohttp!=4.0.0a0,!=4.0.0a1->fsspec[http]>=2022.5.0->pytorch-lightning->ISLP) (6.6.3)\n",
            "Requirement already satisfied: propcache>=0.2.0 in /usr/local/lib/python3.11/dist-packages (from aiohttp!=4.0.0a0,!=4.0.0a1->fsspec[http]>=2022.5.0->pytorch-lightning->ISLP) (0.3.2)\n",
            "Requirement already satisfied: yarl<2.0,>=1.17.0 in /usr/local/lib/python3.11/dist-packages (from aiohttp!=4.0.0a0,!=4.0.0a1->fsspec[http]>=2022.5.0->pytorch-lightning->ISLP) (1.20.1)\n",
            "Requirement already satisfied: idna>=2.0 in /usr/local/lib/python3.11/dist-packages (from yarl<2.0,>=1.17.0->aiohttp!=4.0.0a0,!=4.0.0a1->fsspec[http]>=2022.5.0->pytorch-lightning->ISLP) (3.10)\n"
          ]
        }
      ]
    },
    {
      "cell_type": "code",
      "source": [
        "USArrests = get_rdataset('USArrests').data\n",
        "USArrests"
      ],
      "metadata": {
        "colab": {
          "base_uri": "https://localhost:8080/",
          "height": 1000
        },
        "id": "FV7vCYMtvxdj",
        "outputId": "d912568f-c844-438b-cf18-08d39f206741"
      },
      "execution_count": 5,
      "outputs": [
        {
          "output_type": "execute_result",
          "data": {
            "text/plain": [
              "                Murder  Assault  UrbanPop  Rape\n",
              "rownames                                       \n",
              "Alabama           13.2      236        58  21.2\n",
              "Alaska            10.0      263        48  44.5\n",
              "Arizona            8.1      294        80  31.0\n",
              "Arkansas           8.8      190        50  19.5\n",
              "California         9.0      276        91  40.6\n",
              "Colorado           7.9      204        78  38.7\n",
              "Connecticut        3.3      110        77  11.1\n",
              "Delaware           5.9      238        72  15.8\n",
              "Florida           15.4      335        80  31.9\n",
              "Georgia           17.4      211        60  25.8\n",
              "Hawaii             5.3       46        83  20.2\n",
              "Idaho              2.6      120        54  14.2\n",
              "Illinois          10.4      249        83  24.0\n",
              "Indiana            7.2      113        65  21.0\n",
              "Iowa               2.2       56        57  11.3\n",
              "Kansas             6.0      115        66  18.0\n",
              "Kentucky           9.7      109        52  16.3\n",
              "Louisiana         15.4      249        66  22.2\n",
              "Maine              2.1       83        51   7.8\n",
              "Maryland          11.3      300        67  27.8\n",
              "Massachusetts      4.4      149        85  16.3\n",
              "Michigan          12.1      255        74  35.1\n",
              "Minnesota          2.7       72        66  14.9\n",
              "Mississippi       16.1      259        44  17.1\n",
              "Missouri           9.0      178        70  28.2\n",
              "Montana            6.0      109        53  16.4\n",
              "Nebraska           4.3      102        62  16.5\n",
              "Nevada            12.2      252        81  46.0\n",
              "New Hampshire      2.1       57        56   9.5\n",
              "New Jersey         7.4      159        89  18.8\n",
              "New Mexico        11.4      285        70  32.1\n",
              "New York          11.1      254        86  26.1\n",
              "North Carolina    13.0      337        45  16.1\n",
              "North Dakota       0.8       45        44   7.3\n",
              "Ohio               7.3      120        75  21.4\n",
              "Oklahoma           6.6      151        68  20.0\n",
              "Oregon             4.9      159        67  29.3\n",
              "Pennsylvania       6.3      106        72  14.9\n",
              "Rhode Island       3.4      174        87   8.3\n",
              "South Carolina    14.4      279        48  22.5\n",
              "South Dakota       3.8       86        45  12.8\n",
              "Tennessee         13.2      188        59  26.9\n",
              "Texas             12.7      201        80  25.5\n",
              "Utah               3.2      120        80  22.9\n",
              "Vermont            2.2       48        32  11.2\n",
              "Virginia           8.5      156        63  20.7\n",
              "Washington         4.0      145        73  26.2\n",
              "West Virginia      5.7       81        39   9.3\n",
              "Wisconsin          2.6       53        66  10.8\n",
              "Wyoming            6.8      161        60  15.6"
            ],
            "text/html": [
              "\n",
              "  <div id=\"df-67013a7f-b243-4290-b3a4-0d6c42827e9e\" class=\"colab-df-container\">\n",
              "    <div>\n",
              "<style scoped>\n",
              "    .dataframe tbody tr th:only-of-type {\n",
              "        vertical-align: middle;\n",
              "    }\n",
              "\n",
              "    .dataframe tbody tr th {\n",
              "        vertical-align: top;\n",
              "    }\n",
              "\n",
              "    .dataframe thead th {\n",
              "        text-align: right;\n",
              "    }\n",
              "</style>\n",
              "<table border=\"1\" class=\"dataframe\">\n",
              "  <thead>\n",
              "    <tr style=\"text-align: right;\">\n",
              "      <th></th>\n",
              "      <th>Murder</th>\n",
              "      <th>Assault</th>\n",
              "      <th>UrbanPop</th>\n",
              "      <th>Rape</th>\n",
              "    </tr>\n",
              "    <tr>\n",
              "      <th>rownames</th>\n",
              "      <th></th>\n",
              "      <th></th>\n",
              "      <th></th>\n",
              "      <th></th>\n",
              "    </tr>\n",
              "  </thead>\n",
              "  <tbody>\n",
              "    <tr>\n",
              "      <th>Alabama</th>\n",
              "      <td>13.2</td>\n",
              "      <td>236</td>\n",
              "      <td>58</td>\n",
              "      <td>21.2</td>\n",
              "    </tr>\n",
              "    <tr>\n",
              "      <th>Alaska</th>\n",
              "      <td>10.0</td>\n",
              "      <td>263</td>\n",
              "      <td>48</td>\n",
              "      <td>44.5</td>\n",
              "    </tr>\n",
              "    <tr>\n",
              "      <th>Arizona</th>\n",
              "      <td>8.1</td>\n",
              "      <td>294</td>\n",
              "      <td>80</td>\n",
              "      <td>31.0</td>\n",
              "    </tr>\n",
              "    <tr>\n",
              "      <th>Arkansas</th>\n",
              "      <td>8.8</td>\n",
              "      <td>190</td>\n",
              "      <td>50</td>\n",
              "      <td>19.5</td>\n",
              "    </tr>\n",
              "    <tr>\n",
              "      <th>California</th>\n",
              "      <td>9.0</td>\n",
              "      <td>276</td>\n",
              "      <td>91</td>\n",
              "      <td>40.6</td>\n",
              "    </tr>\n",
              "    <tr>\n",
              "      <th>Colorado</th>\n",
              "      <td>7.9</td>\n",
              "      <td>204</td>\n",
              "      <td>78</td>\n",
              "      <td>38.7</td>\n",
              "    </tr>\n",
              "    <tr>\n",
              "      <th>Connecticut</th>\n",
              "      <td>3.3</td>\n",
              "      <td>110</td>\n",
              "      <td>77</td>\n",
              "      <td>11.1</td>\n",
              "    </tr>\n",
              "    <tr>\n",
              "      <th>Delaware</th>\n",
              "      <td>5.9</td>\n",
              "      <td>238</td>\n",
              "      <td>72</td>\n",
              "      <td>15.8</td>\n",
              "    </tr>\n",
              "    <tr>\n",
              "      <th>Florida</th>\n",
              "      <td>15.4</td>\n",
              "      <td>335</td>\n",
              "      <td>80</td>\n",
              "      <td>31.9</td>\n",
              "    </tr>\n",
              "    <tr>\n",
              "      <th>Georgia</th>\n",
              "      <td>17.4</td>\n",
              "      <td>211</td>\n",
              "      <td>60</td>\n",
              "      <td>25.8</td>\n",
              "    </tr>\n",
              "    <tr>\n",
              "      <th>Hawaii</th>\n",
              "      <td>5.3</td>\n",
              "      <td>46</td>\n",
              "      <td>83</td>\n",
              "      <td>20.2</td>\n",
              "    </tr>\n",
              "    <tr>\n",
              "      <th>Idaho</th>\n",
              "      <td>2.6</td>\n",
              "      <td>120</td>\n",
              "      <td>54</td>\n",
              "      <td>14.2</td>\n",
              "    </tr>\n",
              "    <tr>\n",
              "      <th>Illinois</th>\n",
              "      <td>10.4</td>\n",
              "      <td>249</td>\n",
              "      <td>83</td>\n",
              "      <td>24.0</td>\n",
              "    </tr>\n",
              "    <tr>\n",
              "      <th>Indiana</th>\n",
              "      <td>7.2</td>\n",
              "      <td>113</td>\n",
              "      <td>65</td>\n",
              "      <td>21.0</td>\n",
              "    </tr>\n",
              "    <tr>\n",
              "      <th>Iowa</th>\n",
              "      <td>2.2</td>\n",
              "      <td>56</td>\n",
              "      <td>57</td>\n",
              "      <td>11.3</td>\n",
              "    </tr>\n",
              "    <tr>\n",
              "      <th>Kansas</th>\n",
              "      <td>6.0</td>\n",
              "      <td>115</td>\n",
              "      <td>66</td>\n",
              "      <td>18.0</td>\n",
              "    </tr>\n",
              "    <tr>\n",
              "      <th>Kentucky</th>\n",
              "      <td>9.7</td>\n",
              "      <td>109</td>\n",
              "      <td>52</td>\n",
              "      <td>16.3</td>\n",
              "    </tr>\n",
              "    <tr>\n",
              "      <th>Louisiana</th>\n",
              "      <td>15.4</td>\n",
              "      <td>249</td>\n",
              "      <td>66</td>\n",
              "      <td>22.2</td>\n",
              "    </tr>\n",
              "    <tr>\n",
              "      <th>Maine</th>\n",
              "      <td>2.1</td>\n",
              "      <td>83</td>\n",
              "      <td>51</td>\n",
              "      <td>7.8</td>\n",
              "    </tr>\n",
              "    <tr>\n",
              "      <th>Maryland</th>\n",
              "      <td>11.3</td>\n",
              "      <td>300</td>\n",
              "      <td>67</td>\n",
              "      <td>27.8</td>\n",
              "    </tr>\n",
              "    <tr>\n",
              "      <th>Massachusetts</th>\n",
              "      <td>4.4</td>\n",
              "      <td>149</td>\n",
              "      <td>85</td>\n",
              "      <td>16.3</td>\n",
              "    </tr>\n",
              "    <tr>\n",
              "      <th>Michigan</th>\n",
              "      <td>12.1</td>\n",
              "      <td>255</td>\n",
              "      <td>74</td>\n",
              "      <td>35.1</td>\n",
              "    </tr>\n",
              "    <tr>\n",
              "      <th>Minnesota</th>\n",
              "      <td>2.7</td>\n",
              "      <td>72</td>\n",
              "      <td>66</td>\n",
              "      <td>14.9</td>\n",
              "    </tr>\n",
              "    <tr>\n",
              "      <th>Mississippi</th>\n",
              "      <td>16.1</td>\n",
              "      <td>259</td>\n",
              "      <td>44</td>\n",
              "      <td>17.1</td>\n",
              "    </tr>\n",
              "    <tr>\n",
              "      <th>Missouri</th>\n",
              "      <td>9.0</td>\n",
              "      <td>178</td>\n",
              "      <td>70</td>\n",
              "      <td>28.2</td>\n",
              "    </tr>\n",
              "    <tr>\n",
              "      <th>Montana</th>\n",
              "      <td>6.0</td>\n",
              "      <td>109</td>\n",
              "      <td>53</td>\n",
              "      <td>16.4</td>\n",
              "    </tr>\n",
              "    <tr>\n",
              "      <th>Nebraska</th>\n",
              "      <td>4.3</td>\n",
              "      <td>102</td>\n",
              "      <td>62</td>\n",
              "      <td>16.5</td>\n",
              "    </tr>\n",
              "    <tr>\n",
              "      <th>Nevada</th>\n",
              "      <td>12.2</td>\n",
              "      <td>252</td>\n",
              "      <td>81</td>\n",
              "      <td>46.0</td>\n",
              "    </tr>\n",
              "    <tr>\n",
              "      <th>New Hampshire</th>\n",
              "      <td>2.1</td>\n",
              "      <td>57</td>\n",
              "      <td>56</td>\n",
              "      <td>9.5</td>\n",
              "    </tr>\n",
              "    <tr>\n",
              "      <th>New Jersey</th>\n",
              "      <td>7.4</td>\n",
              "      <td>159</td>\n",
              "      <td>89</td>\n",
              "      <td>18.8</td>\n",
              "    </tr>\n",
              "    <tr>\n",
              "      <th>New Mexico</th>\n",
              "      <td>11.4</td>\n",
              "      <td>285</td>\n",
              "      <td>70</td>\n",
              "      <td>32.1</td>\n",
              "    </tr>\n",
              "    <tr>\n",
              "      <th>New York</th>\n",
              "      <td>11.1</td>\n",
              "      <td>254</td>\n",
              "      <td>86</td>\n",
              "      <td>26.1</td>\n",
              "    </tr>\n",
              "    <tr>\n",
              "      <th>North Carolina</th>\n",
              "      <td>13.0</td>\n",
              "      <td>337</td>\n",
              "      <td>45</td>\n",
              "      <td>16.1</td>\n",
              "    </tr>\n",
              "    <tr>\n",
              "      <th>North Dakota</th>\n",
              "      <td>0.8</td>\n",
              "      <td>45</td>\n",
              "      <td>44</td>\n",
              "      <td>7.3</td>\n",
              "    </tr>\n",
              "    <tr>\n",
              "      <th>Ohio</th>\n",
              "      <td>7.3</td>\n",
              "      <td>120</td>\n",
              "      <td>75</td>\n",
              "      <td>21.4</td>\n",
              "    </tr>\n",
              "    <tr>\n",
              "      <th>Oklahoma</th>\n",
              "      <td>6.6</td>\n",
              "      <td>151</td>\n",
              "      <td>68</td>\n",
              "      <td>20.0</td>\n",
              "    </tr>\n",
              "    <tr>\n",
              "      <th>Oregon</th>\n",
              "      <td>4.9</td>\n",
              "      <td>159</td>\n",
              "      <td>67</td>\n",
              "      <td>29.3</td>\n",
              "    </tr>\n",
              "    <tr>\n",
              "      <th>Pennsylvania</th>\n",
              "      <td>6.3</td>\n",
              "      <td>106</td>\n",
              "      <td>72</td>\n",
              "      <td>14.9</td>\n",
              "    </tr>\n",
              "    <tr>\n",
              "      <th>Rhode Island</th>\n",
              "      <td>3.4</td>\n",
              "      <td>174</td>\n",
              "      <td>87</td>\n",
              "      <td>8.3</td>\n",
              "    </tr>\n",
              "    <tr>\n",
              "      <th>South Carolina</th>\n",
              "      <td>14.4</td>\n",
              "      <td>279</td>\n",
              "      <td>48</td>\n",
              "      <td>22.5</td>\n",
              "    </tr>\n",
              "    <tr>\n",
              "      <th>South Dakota</th>\n",
              "      <td>3.8</td>\n",
              "      <td>86</td>\n",
              "      <td>45</td>\n",
              "      <td>12.8</td>\n",
              "    </tr>\n",
              "    <tr>\n",
              "      <th>Tennessee</th>\n",
              "      <td>13.2</td>\n",
              "      <td>188</td>\n",
              "      <td>59</td>\n",
              "      <td>26.9</td>\n",
              "    </tr>\n",
              "    <tr>\n",
              "      <th>Texas</th>\n",
              "      <td>12.7</td>\n",
              "      <td>201</td>\n",
              "      <td>80</td>\n",
              "      <td>25.5</td>\n",
              "    </tr>\n",
              "    <tr>\n",
              "      <th>Utah</th>\n",
              "      <td>3.2</td>\n",
              "      <td>120</td>\n",
              "      <td>80</td>\n",
              "      <td>22.9</td>\n",
              "    </tr>\n",
              "    <tr>\n",
              "      <th>Vermont</th>\n",
              "      <td>2.2</td>\n",
              "      <td>48</td>\n",
              "      <td>32</td>\n",
              "      <td>11.2</td>\n",
              "    </tr>\n",
              "    <tr>\n",
              "      <th>Virginia</th>\n",
              "      <td>8.5</td>\n",
              "      <td>156</td>\n",
              "      <td>63</td>\n",
              "      <td>20.7</td>\n",
              "    </tr>\n",
              "    <tr>\n",
              "      <th>Washington</th>\n",
              "      <td>4.0</td>\n",
              "      <td>145</td>\n",
              "      <td>73</td>\n",
              "      <td>26.2</td>\n",
              "    </tr>\n",
              "    <tr>\n",
              "      <th>West Virginia</th>\n",
              "      <td>5.7</td>\n",
              "      <td>81</td>\n",
              "      <td>39</td>\n",
              "      <td>9.3</td>\n",
              "    </tr>\n",
              "    <tr>\n",
              "      <th>Wisconsin</th>\n",
              "      <td>2.6</td>\n",
              "      <td>53</td>\n",
              "      <td>66</td>\n",
              "      <td>10.8</td>\n",
              "    </tr>\n",
              "    <tr>\n",
              "      <th>Wyoming</th>\n",
              "      <td>6.8</td>\n",
              "      <td>161</td>\n",
              "      <td>60</td>\n",
              "      <td>15.6</td>\n",
              "    </tr>\n",
              "  </tbody>\n",
              "</table>\n",
              "</div>\n",
              "    <div class=\"colab-df-buttons\">\n",
              "\n",
              "  <div class=\"colab-df-container\">\n",
              "    <button class=\"colab-df-convert\" onclick=\"convertToInteractive('df-67013a7f-b243-4290-b3a4-0d6c42827e9e')\"\n",
              "            title=\"Convert this dataframe to an interactive table.\"\n",
              "            style=\"display:none;\">\n",
              "\n",
              "  <svg xmlns=\"http://www.w3.org/2000/svg\" height=\"24px\" viewBox=\"0 -960 960 960\">\n",
              "    <path d=\"M120-120v-720h720v720H120Zm60-500h600v-160H180v160Zm220 220h160v-160H400v160Zm0 220h160v-160H400v160ZM180-400h160v-160H180v160Zm440 0h160v-160H620v160ZM180-180h160v-160H180v160Zm440 0h160v-160H620v160Z\"/>\n",
              "  </svg>\n",
              "    </button>\n",
              "\n",
              "  <style>\n",
              "    .colab-df-container {\n",
              "      display:flex;\n",
              "      gap: 12px;\n",
              "    }\n",
              "\n",
              "    .colab-df-convert {\n",
              "      background-color: #E8F0FE;\n",
              "      border: none;\n",
              "      border-radius: 50%;\n",
              "      cursor: pointer;\n",
              "      display: none;\n",
              "      fill: #1967D2;\n",
              "      height: 32px;\n",
              "      padding: 0 0 0 0;\n",
              "      width: 32px;\n",
              "    }\n",
              "\n",
              "    .colab-df-convert:hover {\n",
              "      background-color: #E2EBFA;\n",
              "      box-shadow: 0px 1px 2px rgba(60, 64, 67, 0.3), 0px 1px 3px 1px rgba(60, 64, 67, 0.15);\n",
              "      fill: #174EA6;\n",
              "    }\n",
              "\n",
              "    .colab-df-buttons div {\n",
              "      margin-bottom: 4px;\n",
              "    }\n",
              "\n",
              "    [theme=dark] .colab-df-convert {\n",
              "      background-color: #3B4455;\n",
              "      fill: #D2E3FC;\n",
              "    }\n",
              "\n",
              "    [theme=dark] .colab-df-convert:hover {\n",
              "      background-color: #434B5C;\n",
              "      box-shadow: 0px 1px 3px 1px rgba(0, 0, 0, 0.15);\n",
              "      filter: drop-shadow(0px 1px 2px rgba(0, 0, 0, 0.3));\n",
              "      fill: #FFFFFF;\n",
              "    }\n",
              "  </style>\n",
              "\n",
              "    <script>\n",
              "      const buttonEl =\n",
              "        document.querySelector('#df-67013a7f-b243-4290-b3a4-0d6c42827e9e button.colab-df-convert');\n",
              "      buttonEl.style.display =\n",
              "        google.colab.kernel.accessAllowed ? 'block' : 'none';\n",
              "\n",
              "      async function convertToInteractive(key) {\n",
              "        const element = document.querySelector('#df-67013a7f-b243-4290-b3a4-0d6c42827e9e');\n",
              "        const dataTable =\n",
              "          await google.colab.kernel.invokeFunction('convertToInteractive',\n",
              "                                                    [key], {});\n",
              "        if (!dataTable) return;\n",
              "\n",
              "        const docLinkHtml = 'Like what you see? Visit the ' +\n",
              "          '<a target=\"_blank\" href=https://colab.research.google.com/notebooks/data_table.ipynb>data table notebook</a>'\n",
              "          + ' to learn more about interactive tables.';\n",
              "        element.innerHTML = '';\n",
              "        dataTable['output_type'] = 'display_data';\n",
              "        await google.colab.output.renderOutput(dataTable, element);\n",
              "        const docLink = document.createElement('div');\n",
              "        docLink.innerHTML = docLinkHtml;\n",
              "        element.appendChild(docLink);\n",
              "      }\n",
              "    </script>\n",
              "  </div>\n",
              "\n",
              "\n",
              "    <div id=\"df-973b7b23-ec01-4c4f-9181-e21afd08b26e\">\n",
              "      <button class=\"colab-df-quickchart\" onclick=\"quickchart('df-973b7b23-ec01-4c4f-9181-e21afd08b26e')\"\n",
              "                title=\"Suggest charts\"\n",
              "                style=\"display:none;\">\n",
              "\n",
              "<svg xmlns=\"http://www.w3.org/2000/svg\" height=\"24px\"viewBox=\"0 0 24 24\"\n",
              "     width=\"24px\">\n",
              "    <g>\n",
              "        <path d=\"M19 3H5c-1.1 0-2 .9-2 2v14c0 1.1.9 2 2 2h14c1.1 0 2-.9 2-2V5c0-1.1-.9-2-2-2zM9 17H7v-7h2v7zm4 0h-2V7h2v10zm4 0h-2v-4h2v4z\"/>\n",
              "    </g>\n",
              "</svg>\n",
              "      </button>\n",
              "\n",
              "<style>\n",
              "  .colab-df-quickchart {\n",
              "      --bg-color: #E8F0FE;\n",
              "      --fill-color: #1967D2;\n",
              "      --hover-bg-color: #E2EBFA;\n",
              "      --hover-fill-color: #174EA6;\n",
              "      --disabled-fill-color: #AAA;\n",
              "      --disabled-bg-color: #DDD;\n",
              "  }\n",
              "\n",
              "  [theme=dark] .colab-df-quickchart {\n",
              "      --bg-color: #3B4455;\n",
              "      --fill-color: #D2E3FC;\n",
              "      --hover-bg-color: #434B5C;\n",
              "      --hover-fill-color: #FFFFFF;\n",
              "      --disabled-bg-color: #3B4455;\n",
              "      --disabled-fill-color: #666;\n",
              "  }\n",
              "\n",
              "  .colab-df-quickchart {\n",
              "    background-color: var(--bg-color);\n",
              "    border: none;\n",
              "    border-radius: 50%;\n",
              "    cursor: pointer;\n",
              "    display: none;\n",
              "    fill: var(--fill-color);\n",
              "    height: 32px;\n",
              "    padding: 0;\n",
              "    width: 32px;\n",
              "  }\n",
              "\n",
              "  .colab-df-quickchart:hover {\n",
              "    background-color: var(--hover-bg-color);\n",
              "    box-shadow: 0 1px 2px rgba(60, 64, 67, 0.3), 0 1px 3px 1px rgba(60, 64, 67, 0.15);\n",
              "    fill: var(--button-hover-fill-color);\n",
              "  }\n",
              "\n",
              "  .colab-df-quickchart-complete:disabled,\n",
              "  .colab-df-quickchart-complete:disabled:hover {\n",
              "    background-color: var(--disabled-bg-color);\n",
              "    fill: var(--disabled-fill-color);\n",
              "    box-shadow: none;\n",
              "  }\n",
              "\n",
              "  .colab-df-spinner {\n",
              "    border: 2px solid var(--fill-color);\n",
              "    border-color: transparent;\n",
              "    border-bottom-color: var(--fill-color);\n",
              "    animation:\n",
              "      spin 1s steps(1) infinite;\n",
              "  }\n",
              "\n",
              "  @keyframes spin {\n",
              "    0% {\n",
              "      border-color: transparent;\n",
              "      border-bottom-color: var(--fill-color);\n",
              "      border-left-color: var(--fill-color);\n",
              "    }\n",
              "    20% {\n",
              "      border-color: transparent;\n",
              "      border-left-color: var(--fill-color);\n",
              "      border-top-color: var(--fill-color);\n",
              "    }\n",
              "    30% {\n",
              "      border-color: transparent;\n",
              "      border-left-color: var(--fill-color);\n",
              "      border-top-color: var(--fill-color);\n",
              "      border-right-color: var(--fill-color);\n",
              "    }\n",
              "    40% {\n",
              "      border-color: transparent;\n",
              "      border-right-color: var(--fill-color);\n",
              "      border-top-color: var(--fill-color);\n",
              "    }\n",
              "    60% {\n",
              "      border-color: transparent;\n",
              "      border-right-color: var(--fill-color);\n",
              "    }\n",
              "    80% {\n",
              "      border-color: transparent;\n",
              "      border-right-color: var(--fill-color);\n",
              "      border-bottom-color: var(--fill-color);\n",
              "    }\n",
              "    90% {\n",
              "      border-color: transparent;\n",
              "      border-bottom-color: var(--fill-color);\n",
              "    }\n",
              "  }\n",
              "</style>\n",
              "\n",
              "      <script>\n",
              "        async function quickchart(key) {\n",
              "          const quickchartButtonEl =\n",
              "            document.querySelector('#' + key + ' button');\n",
              "          quickchartButtonEl.disabled = true;  // To prevent multiple clicks.\n",
              "          quickchartButtonEl.classList.add('colab-df-spinner');\n",
              "          try {\n",
              "            const charts = await google.colab.kernel.invokeFunction(\n",
              "                'suggestCharts', [key], {});\n",
              "          } catch (error) {\n",
              "            console.error('Error during call to suggestCharts:', error);\n",
              "          }\n",
              "          quickchartButtonEl.classList.remove('colab-df-spinner');\n",
              "          quickchartButtonEl.classList.add('colab-df-quickchart-complete');\n",
              "        }\n",
              "        (() => {\n",
              "          let quickchartButtonEl =\n",
              "            document.querySelector('#df-973b7b23-ec01-4c4f-9181-e21afd08b26e button');\n",
              "          quickchartButtonEl.style.display =\n",
              "            google.colab.kernel.accessAllowed ? 'block' : 'none';\n",
              "        })();\n",
              "      </script>\n",
              "    </div>\n",
              "\n",
              "  <div id=\"id_231a25b9-dcf7-4f4a-ad3e-f5d1287fc5d4\">\n",
              "    <style>\n",
              "      .colab-df-generate {\n",
              "        background-color: #E8F0FE;\n",
              "        border: none;\n",
              "        border-radius: 50%;\n",
              "        cursor: pointer;\n",
              "        display: none;\n",
              "        fill: #1967D2;\n",
              "        height: 32px;\n",
              "        padding: 0 0 0 0;\n",
              "        width: 32px;\n",
              "      }\n",
              "\n",
              "      .colab-df-generate:hover {\n",
              "        background-color: #E2EBFA;\n",
              "        box-shadow: 0px 1px 2px rgba(60, 64, 67, 0.3), 0px 1px 3px 1px rgba(60, 64, 67, 0.15);\n",
              "        fill: #174EA6;\n",
              "      }\n",
              "\n",
              "      [theme=dark] .colab-df-generate {\n",
              "        background-color: #3B4455;\n",
              "        fill: #D2E3FC;\n",
              "      }\n",
              "\n",
              "      [theme=dark] .colab-df-generate:hover {\n",
              "        background-color: #434B5C;\n",
              "        box-shadow: 0px 1px 3px 1px rgba(0, 0, 0, 0.15);\n",
              "        filter: drop-shadow(0px 1px 2px rgba(0, 0, 0, 0.3));\n",
              "        fill: #FFFFFF;\n",
              "      }\n",
              "    </style>\n",
              "    <button class=\"colab-df-generate\" onclick=\"generateWithVariable('USArrests')\"\n",
              "            title=\"Generate code using this dataframe.\"\n",
              "            style=\"display:none;\">\n",
              "\n",
              "  <svg xmlns=\"http://www.w3.org/2000/svg\" height=\"24px\"viewBox=\"0 0 24 24\"\n",
              "       width=\"24px\">\n",
              "    <path d=\"M7,19H8.4L18.45,9,17,7.55,7,17.6ZM5,21V16.75L18.45,3.32a2,2,0,0,1,2.83,0l1.4,1.43a1.91,1.91,0,0,1,.58,1.4,1.91,1.91,0,0,1-.58,1.4L9.25,21ZM18.45,9,17,7.55Zm-12,3A5.31,5.31,0,0,0,4.9,8.1,5.31,5.31,0,0,0,1,6.5,5.31,5.31,0,0,0,4.9,4.9,5.31,5.31,0,0,0,6.5,1,5.31,5.31,0,0,0,8.1,4.9,5.31,5.31,0,0,0,12,6.5,5.46,5.46,0,0,0,6.5,12Z\"/>\n",
              "  </svg>\n",
              "    </button>\n",
              "    <script>\n",
              "      (() => {\n",
              "      const buttonEl =\n",
              "        document.querySelector('#id_231a25b9-dcf7-4f4a-ad3e-f5d1287fc5d4 button.colab-df-generate');\n",
              "      buttonEl.style.display =\n",
              "        google.colab.kernel.accessAllowed ? 'block' : 'none';\n",
              "\n",
              "      buttonEl.onclick = () => {\n",
              "        google.colab.notebook.generateWithVariable('USArrests');\n",
              "      }\n",
              "      })();\n",
              "    </script>\n",
              "  </div>\n",
              "\n",
              "    </div>\n",
              "  </div>\n"
            ],
            "application/vnd.google.colaboratory.intrinsic+json": {
              "type": "dataframe",
              "variable_name": "USArrests",
              "summary": "{\n  \"name\": \"USArrests\",\n  \"rows\": 50,\n  \"fields\": [\n    {\n      \"column\": \"rownames\",\n      \"properties\": {\n        \"dtype\": \"string\",\n        \"num_unique_values\": 50,\n        \"samples\": [\n          \"Indiana\",\n          \"South Carolina\",\n          \"New Mexico\"\n        ],\n        \"semantic_type\": \"\",\n        \"description\": \"\"\n      }\n    },\n    {\n      \"column\": \"Murder\",\n      \"properties\": {\n        \"dtype\": \"number\",\n        \"std\": 4.355509764209288,\n        \"min\": 0.8,\n        \"max\": 17.4,\n        \"num_unique_values\": 43,\n        \"samples\": [\n          12.7,\n          12.2,\n          7.4\n        ],\n        \"semantic_type\": \"\",\n        \"description\": \"\"\n      }\n    },\n    {\n      \"column\": \"Assault\",\n      \"properties\": {\n        \"dtype\": \"number\",\n        \"std\": 83,\n        \"min\": 45,\n        \"max\": 337,\n        \"num_unique_values\": 45,\n        \"samples\": [\n          48,\n          252,\n          57\n        ],\n        \"semantic_type\": \"\",\n        \"description\": \"\"\n      }\n    },\n    {\n      \"column\": \"UrbanPop\",\n      \"properties\": {\n        \"dtype\": \"number\",\n        \"std\": 14,\n        \"min\": 32,\n        \"max\": 91,\n        \"num_unique_values\": 36,\n        \"samples\": [\n          39,\n          66,\n          86\n        ],\n        \"semantic_type\": \"\",\n        \"description\": \"\"\n      }\n    },\n    {\n      \"column\": \"Rape\",\n      \"properties\": {\n        \"dtype\": \"number\",\n        \"std\": 9.366384531059648,\n        \"min\": 7.3,\n        \"max\": 46.0,\n        \"num_unique_values\": 48,\n        \"samples\": [\n          9.5,\n          25.5,\n          46.0\n        ],\n        \"semantic_type\": \"\",\n        \"description\": \"\"\n      }\n    }\n  ]\n}"
            }
          },
          "metadata": {},
          "execution_count": 5
        }
      ]
    },
    {
      "cell_type": "code",
      "source": [
        "#Prints the column names of the USArrests DataFrame.\n",
        "USArrests.columns"
      ],
      "metadata": {
        "colab": {
          "base_uri": "https://localhost:8080/"
        },
        "id": "QrBKc1fGv3v7",
        "outputId": "465eac22-b689-46c8-d5c9-c172d9930b51"
      },
      "execution_count": 6,
      "outputs": [
        {
          "output_type": "execute_result",
          "data": {
            "text/plain": [
              "Index(['Murder', 'Assault', 'UrbanPop', 'Rape'], dtype='object')"
            ]
          },
          "metadata": {},
          "execution_count": 6
        }
      ]
    },
    {
      "cell_type": "code",
      "source": [
        "#Calculates and prints the mean for each column (variable).\n",
        "USArrests.mean()"
      ],
      "metadata": {
        "colab": {
          "base_uri": "https://localhost:8080/",
          "height": 209
        },
        "id": "bEI6aB2UwHtf",
        "outputId": "469b6cef-5aac-4337-d356-c6974c926bd7"
      },
      "execution_count": 7,
      "outputs": [
        {
          "output_type": "execute_result",
          "data": {
            "text/plain": [
              "Murder        7.788\n",
              "Assault     170.760\n",
              "UrbanPop     65.540\n",
              "Rape         21.232\n",
              "dtype: float64"
            ],
            "text/html": [
              "<div>\n",
              "<style scoped>\n",
              "    .dataframe tbody tr th:only-of-type {\n",
              "        vertical-align: middle;\n",
              "    }\n",
              "\n",
              "    .dataframe tbody tr th {\n",
              "        vertical-align: top;\n",
              "    }\n",
              "\n",
              "    .dataframe thead th {\n",
              "        text-align: right;\n",
              "    }\n",
              "</style>\n",
              "<table border=\"1\" class=\"dataframe\">\n",
              "  <thead>\n",
              "    <tr style=\"text-align: right;\">\n",
              "      <th></th>\n",
              "      <th>0</th>\n",
              "    </tr>\n",
              "  </thead>\n",
              "  <tbody>\n",
              "    <tr>\n",
              "      <th>Murder</th>\n",
              "      <td>7.788</td>\n",
              "    </tr>\n",
              "    <tr>\n",
              "      <th>Assault</th>\n",
              "      <td>170.760</td>\n",
              "    </tr>\n",
              "    <tr>\n",
              "      <th>UrbanPop</th>\n",
              "      <td>65.540</td>\n",
              "    </tr>\n",
              "    <tr>\n",
              "      <th>Rape</th>\n",
              "      <td>21.232</td>\n",
              "    </tr>\n",
              "  </tbody>\n",
              "</table>\n",
              "</div><br><label><b>dtype:</b> float64</label>"
            ]
          },
          "metadata": {},
          "execution_count": 7
        }
      ]
    },
    {
      "cell_type": "code",
      "source": [
        "#Calculates and prints the variance for each column (variable).\n",
        "USArrests.var()"
      ],
      "metadata": {
        "colab": {
          "base_uri": "https://localhost:8080/",
          "height": 209
        },
        "id": "88P3GiT3wMWK",
        "outputId": "815c00b7-503d-44c6-f0e3-b989837758f4"
      },
      "execution_count": 8,
      "outputs": [
        {
          "output_type": "execute_result",
          "data": {
            "text/plain": [
              "Murder        18.970465\n",
              "Assault     6945.165714\n",
              "UrbanPop     209.518776\n",
              "Rape          87.729159\n",
              "dtype: float64"
            ],
            "text/html": [
              "<div>\n",
              "<style scoped>\n",
              "    .dataframe tbody tr th:only-of-type {\n",
              "        vertical-align: middle;\n",
              "    }\n",
              "\n",
              "    .dataframe tbody tr th {\n",
              "        vertical-align: top;\n",
              "    }\n",
              "\n",
              "    .dataframe thead th {\n",
              "        text-align: right;\n",
              "    }\n",
              "</style>\n",
              "<table border=\"1\" class=\"dataframe\">\n",
              "  <thead>\n",
              "    <tr style=\"text-align: right;\">\n",
              "      <th></th>\n",
              "      <th>0</th>\n",
              "    </tr>\n",
              "  </thead>\n",
              "  <tbody>\n",
              "    <tr>\n",
              "      <th>Murder</th>\n",
              "      <td>18.970465</td>\n",
              "    </tr>\n",
              "    <tr>\n",
              "      <th>Assault</th>\n",
              "      <td>6945.165714</td>\n",
              "    </tr>\n",
              "    <tr>\n",
              "      <th>UrbanPop</th>\n",
              "      <td>209.518776</td>\n",
              "    </tr>\n",
              "    <tr>\n",
              "      <th>Rape</th>\n",
              "      <td>87.729159</td>\n",
              "    </tr>\n",
              "  </tbody>\n",
              "</table>\n",
              "</div><br><label><b>dtype:</b> float64</label>"
            ]
          },
          "metadata": {},
          "execution_count": 8
        }
      ]
    },
    {
      "cell_type": "code",
      "source": [
        "#Creates an object that can perform the necessary data preprocessing (standardization) for PCA.\n",
        "scaler = StandardScaler(with_std=True ,\n",
        "with_mean=True)\n",
        "#Scales the data using the above object scaler.\n",
        "USArrests_scaled = scaler.fit_transform(USArrests)\n",
        "#Initializes a PCA object.\n",
        "pcaUS = PCA()\n",
        "#Fits the PCA model to the USArrests_scaled data.\n",
        "pcaUS.fit(USArrests_scaled)\n",
        "#Accesses the mean_ attribute of the pcaUS object.\n",
        "pcaUS.mean_"
      ],
      "metadata": {
        "colab": {
          "base_uri": "https://localhost:8080/"
        },
        "id": "cRYu3b7uwRE8",
        "outputId": "647f9d4f-5f84-43c3-c303-e74fa12354d2"
      },
      "execution_count": 9,
      "outputs": [
        {
          "output_type": "execute_result",
          "data": {
            "text/plain": [
              "array([-7.10542736e-17,  1.38777878e-16, -4.39648318e-16,  8.59312621e-16])"
            ]
          },
          "metadata": {},
          "execution_count": 9
        }
      ]
    },
    {
      "cell_type": "code",
      "source": [
        "'''Transforms the scaled data into the principal component scores.\n",
        "Each row represents an observation (state), and each column\n",
        "represents its coordinate along a principal component.'''\n",
        "scores = pcaUS.transform(USArrests_scaled)\n",
        "#Accesses the components_ attribute of the pcaUS object.\n",
        "pcaUS.components_"
      ],
      "metadata": {
        "colab": {
          "base_uri": "https://localhost:8080/"
        },
        "id": "UYGzgxDswmxM",
        "outputId": "0efd80da-6e10-494d-c31b-f9cd70f9efac"
      },
      "execution_count": 10,
      "outputs": [
        {
          "output_type": "execute_result",
          "data": {
            "text/plain": [
              "array([[ 0.53589947,  0.58318363,  0.27819087,  0.54343209],\n",
              "       [-0.41818087, -0.1879856 ,  0.87280619,  0.16731864],\n",
              "       [-0.34123273, -0.26814843, -0.37801579,  0.81777791],\n",
              "       [-0.6492278 ,  0.74340748, -0.13387773, -0.08902432]])"
            ]
          },
          "metadata": {},
          "execution_count": 10
        }
      ]
    },
    {
      "cell_type": "code",
      "source": [
        "'''Defines variables i and j to specify which principal components\n",
        "to plot (here, PC1 and PC2, as Python uses 0-based indexing)'''\n",
        "i, j = 0, 1\n",
        "#Creates a single plot figure and an axes object for plotting.\n",
        "fig , ax = plt.subplots(1, 1, figsize=(8, 8))\n",
        "#Plots the principal component scores as a scatter plot.\n",
        "ax.scatter(scores[:,0], scores[:,1])\n",
        "#Sets the labels for the x and y axes.\n",
        "ax.set_xlabel('PC%d' % (i+1))\n",
        "ax.set_ylabel('PC%d' % (j+1))\n",
        "#Loops through each original variable (there are 4 variables) to create a biplot.\n",
        "for k in range(pcaUS.components_.shape[1]):\n",
        "  ax.arrow(0, 0, pcaUS.components_[i,k], pcaUS.components_[j,k])\n",
        "  ax.text(pcaUS.components_[i,k],\n",
        "    pcaUS.components_[j,k],\n",
        "    USArrests.columns[k])"
      ],
      "metadata": {
        "colab": {
          "base_uri": "https://localhost:8080/",
          "height": 696
        },
        "id": "bckUYZIwwuoM",
        "outputId": "3823480e-4507-4b24-f099-cad6d38ce426"
      },
      "execution_count": 11,
      "outputs": [
        {
          "output_type": "display_data",
          "data": {
            "text/plain": [
              "<Figure size 800x800 with 1 Axes>"
            ],
            "image/png": "[encoded data removed]"
          },
          "metadata": {}
        }
      ]
    },
    {
      "cell_type": "code",
      "source": [
        "#Sets a scaling factor for the arrows.\n",
        "scale_arrow = s_ = 2\n",
        "#Multiplies all values in the second principal component (PC2) scores by -1.\n",
        "scores[:,1] *= -1\n",
        "'''Multiplies all values in the second principal component's\n",
        "loadings by -1 and flipping the y-axis.'''\n",
        "pcaUS.components_[1] *= -1\n",
        "#Creating a biplot using the flipped PC2 scores and loadings.\n",
        "fig , ax = plt.subplots(1, 1, figsize=(8, 8))\n",
        "ax.scatter(scores[:,0], scores[:,1])\n",
        "ax.set_xlabel('PC%d' % (i+1))\n",
        "ax.set_ylabel('PC%d' % (j+1))\n",
        "for k in range(pcaUS.components_.shape[1]):\n",
        "  ax.arrow(0, 0, s_*pcaUS.components_[i,k], s_*pcaUS.components_[\n",
        "    j,k])\n",
        "  ax.text(s_*pcaUS.components_[i,k],\n",
        "    s_*pcaUS.components_[j,k],\n",
        "    USArrests.columns[k])"
      ],
      "metadata": {
        "colab": {
          "base_uri": "https://localhost:8080/",
          "height": 696
        },
        "id": "2aDQkKsEw4dP",
        "outputId": "09ca7db8-3b90-4ac7-f56b-d885db881167"
      },
      "execution_count": 12,
      "outputs": [
        {
          "output_type": "display_data",
          "data": {
            "text/plain": [
              "<Figure size 800x800 with 1 Axes>"
            ],
            "image/png": "[encoded data removed]"
          },
          "metadata": {}
        }
      ]
    },
    {
      "cell_type": "code",
      "source": [
        "#Calculates the standard deviation of each column (principal component) of the scores matrix.\n",
        "scores.std(0, ddof=1)"
      ],
      "metadata": {
        "colab": {
          "base_uri": "https://localhost:8080/"
        },
        "id": "rjQKkv_fxZuF",
        "outputId": "e54a37ea-055d-4e70-dd56-a77cdfd65226"
      },
      "execution_count": 13,
      "outputs": [
        {
          "output_type": "execute_result",
          "data": {
            "text/plain": [
              "array([1.5908673 , 1.00496987, 0.6031915 , 0.4206774 ])"
            ]
          },
          "metadata": {},
          "execution_count": 13
        }
      ]
    },
    {
      "cell_type": "code",
      "source": [
        "#This provides the eigenvalues (variance explained) for each principal component.\n",
        "pcaUS.explained_variance_"
      ],
      "metadata": {
        "colab": {
          "base_uri": "https://localhost:8080/"
        },
        "id": "7UnHJF_nxgMr",
        "outputId": "0424372c-af02-4959-870e-316085e9286d"
      },
      "execution_count": 15,
      "outputs": [
        {
          "output_type": "execute_result",
          "data": {
            "text/plain": [
              "array([2.53085875, 1.00996444, 0.36383998, 0.17696948])"
            ]
          },
          "metadata": {},
          "execution_count": 15
        }
      ]
    },
    {
      "cell_type": "code",
      "source": [
        "#This provides the Proportion of Variance Explained (PVE) by each principal component.\n",
        "pcaUS.explained_variance_ratio_"
      ],
      "metadata": {
        "colab": {
          "base_uri": "https://localhost:8080/"
        },
        "id": "Z4JeTWeWxhip",
        "outputId": "35f8bfd8-fd80-437c-e117-e4740fc8e1c3"
      },
      "execution_count": 16,
      "outputs": [
        {
          "output_type": "execute_result",
          "data": {
            "text/plain": [
              "array([0.62006039, 0.24744129, 0.0891408 , 0.04335752])"
            ]
          },
          "metadata": {},
          "execution_count": 16
        }
      ]
    },
    {
      "cell_type": "code",
      "source": [
        "%%capture\n",
        "\n",
        "fig , axes = plt.subplots(1, 2, figsize=(15, 6))\n",
        "ticks = np.arange(pcaUS.n_components_)+1\n",
        "ax = axes[0]\n",
        "ax.plot(ticks ,\n",
        "pcaUS.explained_variance_ratio_ ,\n",
        "marker='o')\n",
        "ax.set_xlabel('Principal Component');\n",
        "ax.set_ylabel('Proportion of Variance Explained')\n",
        "ax.set_ylim([0,1])\n",
        "ax.set_xticks(ticks)\n",
        "\n",
        "'''With the use of %%capture, it suppresses the displaying of the\n",
        "partially completed figure of Scree plot. Comment the %%capture to check.'''"
      ],
      "metadata": {
        "id": "aUuTnqLSxmmW"
      },
      "execution_count": 27,
      "outputs": []
    },
    {
      "cell_type": "code",
      "source": [
        "#This plot shows the cumulative proportion of variance explained.\n",
        "ax = axes[1]\n",
        "ax.plot(ticks ,\n",
        "pcaUS.explained_variance_ratio_.cumsum(),\n",
        "marker='o')\n",
        "ax.set_xlabel('Principal Component')\n",
        "ax.set_ylabel('Cumulative Proportion of Variance Explained')\n",
        "ax.set_ylim([0, 1])\n",
        "ax.set_xticks(ticks)\n",
        "fig"
      ],
      "metadata": {
        "colab": {
          "base_uri": "https://localhost:8080/",
          "height": 480
        },
        "id": "ZPM2aCH2x56j",
        "outputId": "6fccf37d-cb85-4a1e-819f-dee1f5742dfa"
      },
      "execution_count": 29,
      "outputs": [
        {
          "output_type": "execute_result",
          "data": {
            "text/plain": [
              "<Figure size 1500x600 with 2 Axes>"
            ],
            "image/png": "[encoded data removed]"
          },
          "metadata": {},
          "execution_count": 29
        }
      ]
    },
    {
      "cell_type": "code",
      "source": [
        "#Defines a NumPy array a.\n",
        "a = np.array([1,2,8,-3])\n",
        "#Calculates the cumulative sum of the elements in a.\n",
        "np.cumsum(a)"
      ],
      "metadata": {
        "colab": {
          "base_uri": "https://localhost:8080/"
        },
        "id": "xEoUCzHbx78l",
        "outputId": "b8aea4a9-3db9-4d4c-acdf-828ae936bbcc"
      },
      "execution_count": 31,
      "outputs": [
        {
          "output_type": "execute_result",
          "data": {
            "text/plain": [
              "array([ 1,  3, 11,  8])"
            ]
          },
          "metadata": {},
          "execution_count": 31
        }
      ]
    },
    {
      "cell_type": "code",
      "source": [
        "#Singular Value Decomposition (SVD) & Missing Value processing:\n",
        "\n",
        "#Assigns the already scaled USArrests data to X.\n",
        "X = USArrests_scaled\n",
        "#Performs Singular Value Decomposition on the scaled data matrix X.\n",
        "U, D, V = np.linalg.svd(X, full_matrices=False)\n",
        "#Prints the shapes (dimensions) of the U, D, and V matrices/arrays.\n",
        "U.shape , D.shape , V.shape"
      ],
      "metadata": {
        "colab": {
          "base_uri": "https://localhost:8080/"
        },
        "id": "8jeDWYfGyBxo",
        "outputId": "c8b8a7d3-7367-4d14-d6dd-428cbf3de35a"
      },
      "execution_count": 32,
      "outputs": [
        {
          "output_type": "execute_result",
          "data": {
            "text/plain": [
              "((50, 4), (4,), (4, 4))"
            ]
          },
          "metadata": {},
          "execution_count": 32
        }
      ]
    },
    {
      "cell_type": "code",
      "source": [
        "#Prints the V matrix (right singular vectors) from the SVD.\n",
        "V"
      ],
      "metadata": {
        "colab": {
          "base_uri": "https://localhost:8080/"
        },
        "id": "6_r9KnT3yF26",
        "outputId": "2544a076-68cb-4073-a596-9eb410e02683"
      },
      "execution_count": 33,
      "outputs": [
        {
          "output_type": "execute_result",
          "data": {
            "text/plain": [
              "array([[-0.53589947, -0.58318363, -0.27819087, -0.54343209],\n",
              "       [-0.41818087, -0.1879856 ,  0.87280619,  0.16731864],\n",
              "       [ 0.34123273,  0.26814843,  0.37801579, -0.81777791],\n",
              "       [ 0.6492278 , -0.74340748,  0.13387773,  0.08902432]])"
            ]
          },
          "metadata": {},
          "execution_count": 33
        }
      ]
    },
    {
      "cell_type": "code",
      "source": [
        "#Prints the loadings matrix from the PCA object.\n",
        "pcaUS.components_"
      ],
      "metadata": {
        "colab": {
          "base_uri": "https://localhost:8080/"
        },
        "id": "RWw5c4ukyIAM",
        "outputId": "30b706f7-3a31-4686-fd97-c6e2db1a9302"
      },
      "execution_count": 34,
      "outputs": [
        {
          "output_type": "execute_result",
          "data": {
            "text/plain": [
              "array([[ 0.53589947,  0.58318363,  0.27819087,  0.54343209],\n",
              "       [ 0.41818087,  0.1879856 , -0.87280619, -0.16731864],\n",
              "       [-0.34123273, -0.26814843, -0.37801579,  0.81777791],\n",
              "       [-0.6492278 ,  0.74340748, -0.13387773, -0.08902432]])"
            ]
          },
          "metadata": {},
          "execution_count": 34
        }
      ]
    },
    {
      "cell_type": "code",
      "source": [
        "#Calculates the PC scores using the SVD components and selects the first 3 rows.\n",
        "(U * D[None ,:])[:3]"
      ],
      "metadata": {
        "colab": {
          "base_uri": "https://localhost:8080/"
        },
        "id": "lQ7AuxOcyJNJ",
        "outputId": "d39e1188-6e48-4f8a-fb99-c0e67a769ebf"
      },
      "execution_count": 37,
      "outputs": [
        {
          "output_type": "execute_result",
          "data": {
            "text/plain": [
              "array([[-0.98556588, -1.13339238,  0.44426879,  0.15626714],\n",
              "       [-1.95013775, -1.07321326, -2.04000333, -0.43858344],\n",
              "       [-1.76316354,  0.74595678, -0.05478082, -0.83465292]])"
            ]
          },
          "metadata": {},
          "execution_count": 37
        }
      ]
    },
    {
      "cell_type": "code",
      "source": [
        "#Prints the first 3 rows of the PC scores obtained directly from the pcaUS object.\n",
        "scores[:3]"
      ],
      "metadata": {
        "colab": {
          "base_uri": "https://localhost:8080/"
        },
        "id": "QFYrKu7LyOXG",
        "outputId": "31dfff7b-7762-4cce-c501-ae0e6d2cdf95"
      },
      "execution_count": 39,
      "outputs": [
        {
          "output_type": "execute_result",
          "data": {
            "text/plain": [
              "array([[ 0.98556588,  1.13339238, -0.44426879, -0.15626714],\n",
              "       [ 1.95013775,  1.07321326,  2.04000333,  0.43858344],\n",
              "       [ 1.76316354, -0.74595678,  0.05478082,  0.83465292]])"
            ]
          },
          "metadata": {},
          "execution_count": 39
        }
      ]
    },
    {
      "cell_type": "code",
      "source": [
        "#Sets the number of NAs to introduce.\n",
        "n_omit = 20\n",
        "#Sets the seed for reproducibility of random number generation.\n",
        "np.random.seed(15)\n",
        "#Randomly selects n_omit unique row indices (from 0 to number of rows - 1).\n",
        "r_idx = np.random.choice(np.arange(X.shape[0]),\n",
        "  n_omit ,\n",
        "  replace=False)\n",
        "'''Randomly selects n_omit column indices (from 0 to number of columns - 1),\n",
        "with replacement (meaning a column can be selected multiple times).'''\n",
        "c_idx = np.random.choice(np.arange(X.shape[1]),\n",
        "  n_omit ,\n",
        "  replace=True)\n",
        "#Creates a copy of the scaled data X named Xna.\n",
        "Xna = X.copy()\n",
        "#Introduces np.nan (Not a Number) at the randomly selected [row, column] locations in Xna, simulating missing data.\n",
        "Xna[r_idx , c_idx] = np.nan\n",
        "\n",
        "#Defines a function named low_rank that takes a matrix X and M as no.of components.\n",
        "def low_rank(X, M=1):\n",
        "  U, D, V = np.linalg.svd(X)\n",
        "  L = U[:,:M] * D[None,:M]\n",
        "  return L.dot(V[:M])\n",
        "\n",
        "#Creates a working copy of Xna.\n",
        "Xhat = Xna.copy()\n",
        "#Calculates the mean of each column (axis=0) of Xhat, ignoring np.nan values.\n",
        "Xbar = np.nanmean(Xhat , axis=0)\n",
        "Xhat[r_idx , c_idx] = Xbar[c_idx]\n",
        "\n",
        "#Sets a convergence threshold.\n",
        "thresh = 1e-7\n",
        "#Initializes the relative error.\n",
        "rel_err = 1\n",
        "#Initializes an iteration counter.\n",
        "count = 0\n",
        "\n",
        "#Creates a boolean matrix of True/False for Not a Number(np.nan) in Xna.\n",
        "ismiss = np.isnan(Xna)\n",
        "#Calculates the mean of the squared non-missing values in Xhat.\n",
        "mssold = np.mean(Xhat[~ismiss]**2)\n",
        "#Calculates the mean of the squared non-missing values in the original Xna.\n",
        "mss0 = np.mean(Xna[~ismiss]**2)\n",
        "\n",
        "#while loop that continues as long as the rel_err is greater than the thresh.\n",
        "while rel_err > thresh:\n",
        "  count += 1\n",
        "  # Step 2(a)\n",
        "  Xapp = low_rank(Xhat , M=1)\n",
        "  # Step 2(b)\n",
        "  Xhat[ismiss] = Xapp[ismiss]\n",
        "  # Step 2(c)\n",
        "  mss = np.mean(((Xna - Xapp)[~ismiss])**2)\n",
        "  rel_err = (mssold - mss) / mss0\n",
        "  mssold = mss\n",
        "  print(\"Iteration: {0}, MSS:{1:.3f}, Rel.Err {2:.2e}\"\n",
        "    .format(count , mss , rel_err))\n",
        "'''The above method effectively \"fills in\" the missing values in a way consistent\n",
        "with the underlying low-rank structure (dominant principal components) of the data.'''"
      ],
      "metadata": {
        "colab": {
          "base_uri": "https://localhost:8080/",
          "height": 213
        },
        "id": "xHTwviO6ynQS",
        "outputId": "df256f39-b81f-42d0-b2c2-3b38c0edc434"
      },
      "execution_count": 40,
      "outputs": [
        {
          "output_type": "stream",
          "name": "stdout",
          "text": [
            "Iteration: 1, MSS:0.395, Rel.Err 5.99e-01\n",
            "Iteration: 2, MSS:0.382, Rel.Err 1.33e-02\n",
            "Iteration: 3, MSS:0.381, Rel.Err 1.44e-03\n",
            "Iteration: 4, MSS:0.381, Rel.Err 1.79e-04\n",
            "Iteration: 5, MSS:0.381, Rel.Err 2.58e-05\n",
            "Iteration: 6, MSS:0.381, Rel.Err 4.22e-06\n",
            "Iteration: 7, MSS:0.381, Rel.Err 7.65e-07\n",
            "Iteration: 8, MSS:0.381, Rel.Err 1.48e-07\n",
            "Iteration: 9, MSS:0.381, Rel.Err 2.95e-08\n"
          ]
        },
        {
          "output_type": "execute_result",
          "data": {
            "text/plain": [
              "'The above method effectively \"fills in\" the missing values in a way consistent \\nwith the underlying low-rank structure (dominant principal components) of the data.'"
            ],
            "application/vnd.google.colaboratory.intrinsic+json": {
              "type": "string"
            }
          },
          "metadata": {},
          "execution_count": 40
        }
      ]
    },
    {
      "cell_type": "code",
      "source": [
        "# Calculates the correlation coefficient matrix betwen estimated values(Xapp) & true values(X).\n",
        "np.corrcoef(Xapp[ismiss], X[ismiss])[0,1]"
      ],
      "metadata": {
        "colab": {
          "base_uri": "https://localhost:8080/"
        },
        "id": "gfjcVX2cz4CH",
        "outputId": "31537629-e868-456a-bf16-7169c33ad2a1"
      },
      "execution_count": 41,
      "outputs": [
        {
          "output_type": "execute_result",
          "data": {
            "text/plain": [
              "np.float64(0.7113567434297361)"
            ]
          },
          "metadata": {},
          "execution_count": 41
        }
      ]
    },
    {
      "cell_type": "code",
      "source": [],
      "metadata": {
        "id": "qbBE3hwWz8oH"
      },
      "execution_count": null,
      "outputs": []
    }
  ]
}